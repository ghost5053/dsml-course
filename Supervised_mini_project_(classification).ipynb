{
  "nbformat": 4,
  "nbformat_minor": 0,
  "metadata": {
    "colab": {
      "provenance": [],
      "authorship_tag": "ABX9TyNeSNsJn7SZ3cXoaAeOUzQa",
      "include_colab_link": true
    },
    "kernelspec": {
      "name": "python3",
      "display_name": "Python 3"
    },
    "language_info": {
      "name": "python"
    }
  },
  "cells": [
    {
      "cell_type": "markdown",
      "metadata": {
        "id": "view-in-github",
        "colab_type": "text"
      },
      "source": [
        "<a href=\"https://colab.research.google.com/github/ghost5053/dsml-course/blob/main/Supervised_mini_project_(classification).ipynb\" target=\"_parent\"><img src=\"https://colab.research.google.com/assets/colab-badge.svg\" alt=\"Open In Colab\"/></a>"
      ]
    },
    {
      "cell_type": "code",
      "execution_count": 1,
      "metadata": {
        "id": "a1eSIa1LnL1Q"
      },
      "outputs": [],
      "source": [
        "from sklearn.datasets import load_breast_cancer\n",
        "import pandas as pd\n",
        "import numpy as np\n",
        "from sklearn.preprocessing import StandardScaler\n",
        "\n",
        "# Load the dataset\n",
        "data = load_breast_cancer()\n",
        "X = pd.DataFrame(data.data, columns=data.feature_names)\n",
        "y = pd.Series(data.target, name=\"target\")\n"
      ]
    },
    {
      "cell_type": "code",
      "source": [
        "# Check for missing values\n",
        "missing_values = X.isnull().sum().sum()\n",
        "\n",
        "# Handle missing values (if any)\n",
        "if missing_values > 0:\n",
        "    X.fillna(X.mean(), inplace=True)  # Impute missing values with the column mean\n"
      ],
      "metadata": {
        "id": "Q4VLDj2qnfUr"
      },
      "execution_count": 3,
      "outputs": []
    },
    {
      "cell_type": "code",
      "source": [
        "# Scale features using StandardScaler\n",
        "scaler = StandardScaler()\n",
        "X_scaled = scaler.fit_transform(X)\n"
      ],
      "metadata": {
        "id": "2hmMNkO8nfWn"
      },
      "execution_count": 4,
      "outputs": []
    },
    {
      "cell_type": "markdown",
      "source": [
        "#Many machine learning algorithms, such as SVMs and logistic regression, are sensitive to the scale of features. Standardization ensures that the optimization algorithm converges faster and prevents features with large magnitudes from dominating the model."
      ],
      "metadata": {
        "id": "0wmjp-Vypeaq"
      }
    },
    {
      "cell_type": "code",
      "source": [
        "from sklearn.linear_model import LogisticRegression\n",
        "from sklearn.model_selection import train_test_split\n",
        "from sklearn.metrics import accuracy_score\n",
        "\n",
        "# Split the data\n",
        "X_train, X_test, y_train, y_test = train_test_split(X_scaled, y, test_size=0.2, random_state=42)\n",
        "\n",
        "# Logistic Regression\n",
        "log_reg = LogisticRegression(random_state=42)\n",
        "log_reg.fit(X_train, y_train)\n",
        "y_pred_lr = log_reg.predict(X_test)\n",
        "\n",
        "# Accuracy\n",
        "accuracy_lr = accuracy_score(y_test, y_pred_lr)\n",
        "print(f\"Logistic Regression Accuracy: {accuracy_lr:.2f}\")\n"
      ],
      "metadata": {
        "colab": {
          "base_uri": "https://localhost:8080/"
        },
        "id": "qY0Xa0g7nfbL",
        "outputId": "d5c6c4ce-1b59-47c9-f934-fb4f098745dd"
      },
      "execution_count": 5,
      "outputs": [
        {
          "output_type": "stream",
          "name": "stdout",
          "text": [
            "Logistic Regression Accuracy: 0.97\n"
          ]
        }
      ]
    },
    {
      "cell_type": "markdown",
      "source": [
        " # Simple and interpretable, works well for linearly separable data.\n",
        ""
      ],
      "metadata": {
        "id": "QNXl9Y6box9b"
      }
    },
    {
      "cell_type": "code",
      "source": [
        "from sklearn.tree import DecisionTreeClassifier\n",
        "\n",
        "# Decision Tree Classifier\n",
        "dt_classifier = DecisionTreeClassifier(random_state=42)\n",
        "dt_classifier.fit(X_train, y_train)\n",
        "y_pred_dt = dt_classifier.predict(X_test)\n",
        "\n",
        "# Accuracy\n",
        "accuracy_dt = accuracy_score(y_test, y_pred_dt)\n",
        "print(f\"Decision Tree Accuracy: {accuracy_dt:.2f}\")\n"
      ],
      "metadata": {
        "colab": {
          "base_uri": "https://localhost:8080/"
        },
        "id": "mpCXdPmznfdl",
        "outputId": "c089f8cf-2991-4de0-9321-ad721ef05a46"
      },
      "execution_count": 6,
      "outputs": [
        {
          "output_type": "stream",
          "name": "stdout",
          "text": [
            "Decision Tree Accuracy: 0.95\n"
          ]
        }
      ]
    },
    {
      "cell_type": "markdown",
      "source": [
        "#Captures non-linear patterns and is easy to understand."
      ],
      "metadata": {
        "id": "swVJED9ppAlC"
      }
    },
    {
      "cell_type": "code",
      "source": [
        "from sklearn.ensemble import RandomForestClassifier\n",
        "\n",
        "# Random Forest Classifier\n",
        "rf_classifier = RandomForestClassifier(random_state=42, n_estimators=100)\n",
        "rf_classifier.fit(X_train, y_train)\n",
        "y_pred_rf = rf_classifier.predict(X_test)\n",
        "\n",
        "# Accuracy\n",
        "accuracy_rf = accuracy_score(y_test, y_pred_rf)\n",
        "print(f\"Random Forest Accuracy: {accuracy_rf:.2f}\")\n"
      ],
      "metadata": {
        "colab": {
          "base_uri": "https://localhost:8080/"
        },
        "id": "aOhzNHRUnfhF",
        "outputId": "7bfb6cea-9c86-4c36-d251-7dd423d317fe"
      },
      "execution_count": 7,
      "outputs": [
        {
          "output_type": "stream",
          "name": "stdout",
          "text": [
            "Random Forest Accuracy: 0.96\n"
          ]
        }
      ]
    },
    {
      "cell_type": "markdown",
      "source": [
        "#Improves over decision trees by reducing overfitting and boosting accuracy."
      ],
      "metadata": {
        "id": "ryhsiPhmpHKb"
      }
    },
    {
      "cell_type": "code",
      "source": [
        "from sklearn.svm import SVC\n",
        "\n",
        "# Support Vector Machine\n",
        "svm_classifier = SVC(kernel='linear', random_state=42)\n",
        "svm_classifier.fit(X_train, y_train)\n",
        "y_pred_svm = svm_classifier.predict(X_test)\n",
        "\n",
        "# Accuracy\n",
        "accuracy_svm = accuracy_score(y_test, y_pred_svm)\n",
        "print(f\"Support Vector Machine Accuracy: {accuracy_svm:.2f}\")\n"
      ],
      "metadata": {
        "colab": {
          "base_uri": "https://localhost:8080/"
        },
        "id": "fbAq_oF1oFS5",
        "outputId": "dd2bae2c-1bc5-4eb6-efee-849337889344"
      },
      "execution_count": 8,
      "outputs": [
        {
          "output_type": "stream",
          "name": "stdout",
          "text": [
            "Support Vector Machine Accuracy: 0.96\n"
          ]
        }
      ]
    },
    {
      "cell_type": "markdown",
      "source": [
        "#Effective for high-dimensional data and ensures a clear margin of separation."
      ],
      "metadata": {
        "id": "zYiWLeAPpLjg"
      }
    },
    {
      "cell_type": "code",
      "source": [
        "from sklearn.neighbors import KNeighborsClassifier\n",
        "\n",
        "# k-Nearest Neighbors\n",
        "knn_classifier = KNeighborsClassifier(n_neighbors=5)\n",
        "knn_classifier.fit(X_train, y_train)\n",
        "y_pred_knn = knn_classifier.predict(X_test)\n",
        "\n",
        "# Accuracy\n",
        "accuracy_knn = accuracy_score(y_test, y_pred_knn)\n",
        "print(f\"k-Nearest Neighbors Accuracy: {accuracy_knn:.2f}\")\n"
      ],
      "metadata": {
        "colab": {
          "base_uri": "https://localhost:8080/"
        },
        "id": "G7PyxKP2oFPg",
        "outputId": "78db0521-f997-4d9d-b0db-9a3fbc4584c1"
      },
      "execution_count": 9,
      "outputs": [
        {
          "output_type": "stream",
          "name": "stdout",
          "text": [
            "k-Nearest Neighbors Accuracy: 0.95\n"
          ]
        }
      ]
    },
    {
      "cell_type": "markdown",
      "source": [
        "# A lazy learner, works well with datasets having well-separated classes."
      ],
      "metadata": {
        "id": "5rZQ48p0pXwm"
      }
    },
    {
      "cell_type": "code",
      "source": [
        "# Collect accuracies\n",
        "model_accuracies = {\n",
        "    \"Logistic Regression\": accuracy_lr,\n",
        "    \"Decision Tree\": accuracy_dt,\n",
        "    \"Random Forest\": accuracy_rf,\n",
        "    \"Support Vector Machine\": accuracy_svm,\n",
        "    \"k-Nearest Neighbors\": accuracy_knn,\n",
        "}\n",
        "\n",
        "# Find the best and worst models\n",
        "best_model = max(model_accuracies, key=model_accuracies.get)\n",
        "worst_model = min(model_accuracies, key=model_accuracies.get)\n",
        "\n",
        "# Display comparison\n",
        "print(\"Model Performance Comparison:\")\n",
        "for model, accuracy in model_accuracies.items():\n",
        "    print(f\"{model}: Accuracy = {accuracy:.2f}\")\n",
        "\n",
        "print(f\"\\nBest Performing Model: {best_model} (Accuracy = {model_accuracies[best_model]:.2f})\")\n",
        "print(f\"Worst Performing Model: {worst_model} (Accuracy = {model_accuracies[worst_model]:.2f})\")\n"
      ],
      "metadata": {
        "colab": {
          "base_uri": "https://localhost:8080/"
        },
        "id": "d_ep3U9spTkI",
        "outputId": "140b9010-c5a7-40b3-bfe3-87ccb6d3090f"
      },
      "execution_count": 10,
      "outputs": [
        {
          "output_type": "stream",
          "name": "stdout",
          "text": [
            "Model Performance Comparison:\n",
            "Logistic Regression: Accuracy = 0.97\n",
            "Decision Tree: Accuracy = 0.95\n",
            "Random Forest: Accuracy = 0.96\n",
            "Support Vector Machine: Accuracy = 0.96\n",
            "k-Nearest Neighbors: Accuracy = 0.95\n",
            "\n",
            "Best Performing Model: Logistic Regression (Accuracy = 0.97)\n",
            "Worst Performing Model: Decision Tree (Accuracy = 0.95)\n"
          ]
        }
      ]
    },
    {
      "cell_type": "markdown",
      "source": [
        "###Best Performing Model: Logistic Regression (Accuracy = 0.97)\n",
        "###Worst Performing Model: Decision Tree (Accuracy = 0.95)"
      ],
      "metadata": {
        "id": "U5oB2n9UpzlQ"
      }
    },
    {
      "cell_type": "code",
      "source": [],
      "metadata": {
        "id": "nU57iY5hpTmY"
      },
      "execution_count": null,
      "outputs": []
    }
  ]
}